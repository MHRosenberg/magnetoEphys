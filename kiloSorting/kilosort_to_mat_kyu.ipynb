{
 "cells": [
  {
   "cell_type": "code",
   "execution_count": 3,
   "metadata": {},
   "outputs": [],
   "source": [
    "import numpy as np\n",
    "import scipy.io as sio\n",
    "import pandas as pd\n",
    "import os.path"
   ]
  },
  {
   "cell_type": "code",
   "execution_count": 4,
   "metadata": {},
   "outputs": [],
   "source": [
    "# path to sorting folder\n",
    "path = 'J:/ksort/20180618'\n",
    "\n",
    "# load stuff\n",
    "spike_times = np.load(os.path.join(path,'spike_times.npy'))\n",
    "spike_clusters = np.load(os.path.join(path,'spike_clusters.npy'))\n",
    "spike_templates = np.load(os.path.join(path,'spike_templates.npy'))\n",
    "templates = np.load(os.path.join(path,'templates.npy'))\n",
    "cluster_groups = pd.read_csv(os.path.join(path,'cluster_groups.csv'),sep='\\t')\n",
    "clusters = np.array(cluster_groups['cluster_id'])\n",
    "group = np.array(cluster_groups['group'])\n",
    "channel_map = np.load(os.path.join(path,'channel_map.npy'))\n",
    "\n",
    "# find good clusters\n",
    "good_clusters = clusters[group=='good']\n",
    "\n",
    "every_channel = {}\n",
    "max_channel = {} # will hold channel w/ max amplitude\n",
    "output = {} # will hold spikes\n",
    "for cluster in good_clusters:\n",
    "    output[cluster] = spike_times[spike_clusters==cluster]\n",
    "    # for clusters that were merged, compute the average waveform for every channel\n",
    "    # by taking a weighted average across the clusters that were merged;    \n",
    "    template_list = spike_templates[spike_clusters==cluster]\n",
    "    unique_template_list = np.unique(template_list)\n",
    "    preaverage = np.empty([len(unique_template_list),templates.shape[1],templates.shape[2]])\n",
    "    for ind in range(len(unique_template_list)):\n",
    "        preaverage[ind] = templates[unique_template_list[ind]]*len(template_list==unique_template_list[ind])/len(template_list)\n",
    "    every_channel[cluster] = np.average(preaverage, axis=0)\n",
    "    \n",
    "    # then identify the channel with the largest peak to peak amplitude (max - min)\n",
    "    max_p2p_every_channel=np.max(every_channel[cluster],0)-np.min(every_channel[cluster],0)\n",
    "    max_channel[cluster] = np.where(max_p2p_every_channel==max(max_p2p_every_channel))[0][0]\n",
    "    \n",
    "# output\n",
    "cellid = np.array(list(max_channel.keys()))\n",
    "masks=channel_map[list(max_channel.values())].flatten()\n",
    "sp = np.array(list(output.values()))\n",
    "\n",
    "# save as mat\n",
    "sio.savemat(os.path.join(path,'sp.mat'),{'cellid':cellid,'masks':masks,'sp':sp})"
   ]
  }
 ],
 "metadata": {
  "kernelspec": {
   "display_name": "Python 3",
   "language": "python",
   "name": "python3"
  },
  "language_info": {
   "codemirror_mode": {
    "name": "ipython",
    "version": 3
   },
   "file_extension": ".py",
   "mimetype": "text/x-python",
   "name": "python",
   "nbconvert_exporter": "python",
   "pygments_lexer": "ipython3",
   "version": "3.5.2"
  }
 },
 "nbformat": 4,
 "nbformat_minor": 1
}
